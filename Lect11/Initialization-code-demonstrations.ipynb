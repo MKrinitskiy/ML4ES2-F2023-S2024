{
 "cells": [
  {
   "cell_type": "code",
   "execution_count": null,
   "id": "cee89670",
   "metadata": {},
   "outputs": [],
   "source": [
    "import torch.nn as nn\n",
    "import numpy as np"
   ]
  },
  {
   "cell_type": "code",
   "execution_count": null,
   "id": "0a34b39f",
   "metadata": {},
   "outputs": [],
   "source": [
    "class Net_rnd(nn.Module):\n",
    "    def __init__(self):\n",
    "        super(Net_rnd, self).__init__()\n",
    "        self.fc1 = nn.Linear(784, 10)\n",
    "        nn.init.normal_(self.fc1.weight, mean=0, std=0.01)\n",
    "        nn.init.normal_(self.fc1.bias, mean=0, std=0.01)"
   ]
  },
  {
   "cell_type": "code",
   "execution_count": 21,
   "id": "ce34349e",
   "metadata": {},
   "outputs": [],
   "source": [
    "class Net_he(nn.Module):\n",
    "    def __init__(self):\n",
    "        super(Net_he, self).__init__()\n",
    "        self.fc1 = nn.Linear(784, 10)\n",
    "        nn.init.kaiming_normal_(self.fc1.weight, mode='fan_out', nonlinearity='relu')\n",
    "        nn.init.zeros_(self.fc1.bias)"
   ]
  },
  {
   "cell_type": "code",
   "execution_count": 14,
   "id": "62a2385f",
   "metadata": {},
   "outputs": [],
   "source": [
    "class Net_xavier(nn.Module):\n",
    "    def __init__(self):\n",
    "        super(Net_xavier, self).__init__()\n",
    "        self.fc1 = nn.Linear(784, 10)\n",
    "        nn.init.xavier_uniform_(self.fc1.weight)\n",
    "        nn.init.zeros_(self.fc1.bias)"
   ]
  },
  {
   "cell_type": "code",
   "execution_count": 15,
   "id": "5a0ad5a9",
   "metadata": {},
   "outputs": [],
   "source": [
    "net = Net_xavier()"
   ]
  },
  {
   "cell_type": "code",
   "execution_count": 17,
   "id": "7a28807f",
   "metadata": {},
   "outputs": [
    {
     "name": "stdout",
     "output_type": "stream",
     "text": [
      "<class 'numpy.ndarray'>\n",
      "(10, 784)\n"
     ]
    }
   ],
   "source": [
    "weights = net.fc1.weight.detach().cpu().numpy()\n",
    "print(type(weights))\n",
    "print(weights.shape)"
   ]
  },
  {
   "cell_type": "markdown",
   "id": "33ef3481",
   "metadata": {},
   "source": [
    "### Expected implementation:\n",
    "\n",
    "according to [Xavier Glorot & Yoshua Bengio, 2010](https://proceedings.mlr.press/v9/glorot10a.html)\n",
    "\n",
    "$$\n",
    "\\theta \\sim \\mathbb{U}\\left(-\\frac{\\sqrt{6}}{\\sqrt{m+n}}; \\frac{\\sqrt{6}}{\\sqrt{m+n}}\\right)\n",
    "$$"
   ]
  },
  {
   "cell_type": "code",
   "execution_count": 18,
   "id": "aa768c14",
   "metadata": {},
   "outputs": [
    {
     "data": {
      "text/plain": [
       "0.08692913816996169"
      ]
     },
     "execution_count": 18,
     "metadata": {},
     "output_type": "execute_result"
    }
   ],
   "source": [
    "np.sqrt(6)/np.sqrt(10+784)"
   ]
  },
  {
   "cell_type": "code",
   "execution_count": 19,
   "id": "24496026",
   "metadata": {},
   "outputs": [
    {
     "data": {
      "text/plain": [
       "(-0.08690814, 0.0869138)"
      ]
     },
     "execution_count": 19,
     "metadata": {},
     "output_type": "execute_result"
    }
   ],
   "source": [
    "weights.min(), weights.max()"
   ]
  },
  {
   "cell_type": "code",
   "execution_count": null,
   "id": "78bc7b20",
   "metadata": {},
   "outputs": [],
   "source": []
  },
  {
   "cell_type": "code",
   "execution_count": null,
   "id": "9e0f2de1",
   "metadata": {},
   "outputs": [],
   "source": []
  },
  {
   "cell_type": "code",
   "execution_count": 22,
   "id": "71cd84ec",
   "metadata": {},
   "outputs": [],
   "source": [
    "net = Net_he()"
   ]
  },
  {
   "cell_type": "code",
   "execution_count": 23,
   "id": "f6a41e74",
   "metadata": {},
   "outputs": [
    {
     "name": "stdout",
     "output_type": "stream",
     "text": [
      "<class 'numpy.ndarray'>\n",
      "(10, 784)\n"
     ]
    }
   ],
   "source": [
    "weights = net.fc1.weight.detach().cpu().numpy()\n",
    "print(type(weights))\n",
    "print(weights.shape)"
   ]
  },
  {
   "cell_type": "markdown",
   "id": "09e2b996",
   "metadata": {},
   "source": [
    "### Expected implementation:\n",
    "\n",
    "according to [Kaiming He, 2015](https://arxiv.org/abs/1502.01852v1)\n",
    "\n",
    "$$\n",
    "Var(\\theta) = \\frac{2}{k}\n",
    "$$"
   ]
  },
  {
   "cell_type": "code",
   "execution_count": 24,
   "id": "e9229569",
   "metadata": {},
   "outputs": [
    {
     "data": {
      "text/plain": [
       "0.20055276"
      ]
     },
     "execution_count": 24,
     "metadata": {},
     "output_type": "execute_result"
    }
   ],
   "source": [
    "np.var(weights.ravel())"
   ]
  },
  {
   "cell_type": "code",
   "execution_count": 25,
   "id": "dd8dc7fd",
   "metadata": {},
   "outputs": [
    {
     "data": {
      "text/plain": [
       "0.2"
      ]
     },
     "execution_count": 25,
     "metadata": {},
     "output_type": "execute_result"
    }
   ],
   "source": [
    "2/10"
   ]
  },
  {
   "cell_type": "code",
   "execution_count": null,
   "id": "9a2032ec",
   "metadata": {},
   "outputs": [],
   "source": []
  }
 ],
 "metadata": {
  "kernelspec": {
   "display_name": "Python 3 (ipykernel)",
   "language": "python",
   "name": "python3"
  },
  "language_info": {
   "codemirror_mode": {
    "name": "ipython",
    "version": 3
   },
   "file_extension": ".py",
   "mimetype": "text/x-python",
   "name": "python",
   "nbconvert_exporter": "python",
   "pygments_lexer": "ipython3",
   "version": "3.8.11"
  }
 },
 "nbformat": 4,
 "nbformat_minor": 5
}
